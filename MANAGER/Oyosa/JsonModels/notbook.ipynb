{
 "cells": [
  {
   "cell_type": "markdown",
   "id": "46849450-5d8b-4acc-a2ea-d915969aba7c",
   "metadata": {},
   "source": [
    "> add to dict "
   ]
  },
  {
   "cell_type": "code",
   "execution_count": 16,
   "id": "7ff53857-c1e6-4c02-83af-45f4b1b5144c",
   "metadata": {},
   "outputs": [],
   "source": [
    "dict1 = {\n",
    "    'name':'parsa'\n",
    "}\n",
    "dict2 = {\n",
    "    'name':'sepehr' , \n",
    "    'family':'khakiy' , \n",
    "    \n",
    "}"
   ]
  },
  {
   "cell_type": "code",
   "execution_count": 4,
   "id": "ad429bba-d753-46a4-bb79-31da3651cbd4",
   "metadata": {},
   "outputs": [],
   "source": [
    "# if we add we have to add and append a deplicate key \n",
    "# dont accpect duplicate \n",
    "# raise TypeError('we can extends deblicate keys {}')"
   ]
  },
  {
   "cell_type": "code",
   "execution_count": null,
   "id": "c29a4403-c1f4-410e-b8ae-476a83ff8398",
   "metadata": {},
   "outputs": [],
   "source": [
    "def extends_dicts(*args):\n",
    "    pass"
   ]
  },
  {
   "cell_type": "code",
   "execution_count": 17,
   "id": "7fd6dc99-04da-4692-ae07-5b4e25e95a73",
   "metadata": {},
   "outputs": [],
   "source": [
    "def extends_dicts(*args):\n",
    "    # this  is simple adding to dict without deplicate keys \n",
    "    new_dict = {}\n",
    "    for d in args : \n",
    "        for key in d : \n",
    "            if key not in new_dict: \n",
    "                new_dict[key] = d[key]\n",
    "            else : \n",
    "                continue\n",
    "\n",
    "    return new_dict\n",
    "    "
   ]
  },
  {
   "cell_type": "code",
   "execution_count": 18,
   "id": "e6e3d81e-65dc-4bb5-b282-4d603e56c2d5",
   "metadata": {},
   "outputs": [
    {
     "data": {
      "text/plain": [
       "{'name': 'parsa', 'family': 'khakiy'}"
      ]
     },
     "execution_count": 18,
     "metadata": {},
     "output_type": "execute_result"
    }
   ],
   "source": [
    "extends_dicts(dict1 , dict2)"
   ]
  },
  {
   "cell_type": "code",
   "execution_count": null,
   "id": "767aa7ee-6448-452a-bee6-fba42e0d5197",
   "metadata": {},
   "outputs": [],
   "source": []
  }
 ],
 "metadata": {
  "kernelspec": {
   "display_name": "Python 3 (ipykernel)",
   "language": "python",
   "name": "python3"
  },
  "language_info": {
   "codemirror_mode": {
    "name": "ipython",
    "version": 3
   },
   "file_extension": ".py",
   "mimetype": "text/x-python",
   "name": "python",
   "nbconvert_exporter": "python",
   "pygments_lexer": "ipython3",
   "version": "3.10.12"
  }
 },
 "nbformat": 4,
 "nbformat_minor": 5
}
