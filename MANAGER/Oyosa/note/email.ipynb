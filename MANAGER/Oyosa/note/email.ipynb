{
 "cells": [
  {
   "cell_type": "code",
   "execution_count": 16,
   "id": "99cb342a-d00f-47d6-af8b-cf5432e70be0",
   "metadata": {},
   "outputs": [],
   "source": [
    "# email\n",
    "ERROR_MAIL_PROXY_INPUT  = \"\"\"  You Dont have add Proxys  \"\"\"\n",
    "\n",
    "class ProxyError(Exception):\n",
    "    def __str__(self) -> str  : \n",
    "        return f'{ERROR_MAIL_PROXY_INPUT}'\n",
    "class Email():\n",
    "    host = None\n",
    "    dns = None\n",
    "    proxy = None \n",
    "    def __init__(self , email ,**kwargs):\n",
    "        ''' here we get the email  '''\n",
    "        self.internull_host = kwargs.get('host')  if kwargs.get('host')  else {'host':self.host  , 'dns':self.proxy , }\n",
    "        self.mail = email\n",
    "    \n",
    "    def send_email(self , proxy = False,**kwargs):\n",
    "        if proxy : \n",
    "            PROXYES = 'proxys'\n",
    "            # we can use assert \n",
    "            if kwargs.get('proxys') : \n",
    "                    # send text from init \n",
    "                for proxy in kwargs['proxys']:\n",
    "                    pass \n",
    "            else : \n",
    "                raise ProxyError(ERROR_MAIL_PROXY_INPUT)\n",
    "            # this is OOP \n",
    "\n",
    "\n"
   ]
  },
  {
   "cell_type": "code",
   "execution_count": 17,
   "id": "b57d9e68-f4c7-49ab-a13c-92503c393c57",
   "metadata": {},
   "outputs": [
    {
     "ename": "ProxyError",
     "evalue": "  You Dont have add Proxys  ",
     "output_type": "error",
     "traceback": [
      "\u001b[0;31m---------------------------------------------------------------------------\u001b[0m",
      "\u001b[0;31mProxyError\u001b[0m                                Traceback (most recent call last)",
      "Cell \u001b[0;32mIn[17], line 2\u001b[0m\n\u001b[1;32m      1\u001b[0m parsa_email \u001b[38;5;241m=\u001b[39m  Email(\u001b[38;5;124m'\u001b[39m\u001b[38;5;124mparsakhakiy\u001b[39m\u001b[38;5;124m'\u001b[39m)\n\u001b[0;32m----> 2\u001b[0m \u001b[43mparsa_email\u001b[49m\u001b[38;5;241;43m.\u001b[39;49m\u001b[43msend_email\u001b[49m\u001b[43m(\u001b[49m\u001b[43mproxy\u001b[49m\u001b[43m \u001b[49m\u001b[38;5;241;43m=\u001b[39;49m\u001b[43m \u001b[49m\u001b[38;5;28;43;01mTrue\u001b[39;49;00m\u001b[43m)\u001b[49m\n",
      "Cell \u001b[0;32mIn[16], line 25\u001b[0m, in \u001b[0;36mEmail.send_email\u001b[0;34m(self, proxy, **kwargs)\u001b[0m\n\u001b[1;32m     23\u001b[0m         \u001b[38;5;28;01mpass\u001b[39;00m \n\u001b[1;32m     24\u001b[0m \u001b[38;5;28;01melse\u001b[39;00m : \n\u001b[0;32m---> 25\u001b[0m     \u001b[38;5;28;01mraise\u001b[39;00m ProxyError(ERROR_MAIL_PROXY_INPUT)\n",
      "\u001b[0;31mProxyError\u001b[0m:   You Dont have add Proxys  "
     ]
    }
   ],
   "source": [
    "parsa_email =  Email('parsakhakiy')\n",
    "parsa_email.send_email(proxy = True)"
   ]
  },
  {
   "cell_type": "code",
   "execution_count": null,
   "id": "225c268c-3e19-40d3-9f0e-ce5f6a2f75a7",
   "metadata": {},
   "outputs": [],
   "source": []
  }
 ],
 "metadata": {
  "kernelspec": {
   "display_name": "Python 3 (ipykernel)",
   "language": "python",
   "name": "python3"
  },
  "language_info": {
   "codemirror_mode": {
    "name": "ipython",
    "version": 3
   },
   "file_extension": ".py",
   "mimetype": "text/x-python",
   "name": "python",
   "nbconvert_exporter": "python",
   "pygments_lexer": "ipython3",
   "version": "3.10.12"
  }
 },
 "nbformat": 4,
 "nbformat_minor": 5
}
