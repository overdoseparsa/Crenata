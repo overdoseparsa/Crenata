{
 "cells": [
  {
   "cell_type": "code",
   "execution_count": 5,
   "id": "fc78568d-12f7-443a-883f-d794bb533bfe",
   "metadata": {},
   "outputs": [],
   "source": [
    "data1 = ['data' , 'manger']"
   ]
  },
  {
   "cell_type": "code",
   "execution_count": 6,
   "id": "c391a672-412b-4775-9f16-e1043ea1eb8d",
   "metadata": {},
   "outputs": [],
   "source": [
    "data2 = ['data' , 'manger' , 'parsa']"
   ]
  },
  {
   "cell_type": "code",
   "execution_count": 7,
   "id": "182ec980-fa70-4fa6-a025-f99e4c82f2d9",
   "metadata": {},
   "outputs": [],
   "source": [
    "def create_difrents(v1,v2):\n",
    "    resualt = []\n",
    "    for data in v2 : \n",
    "        if not (data in v1) :\n",
    "            resualt.append(data)\n",
    "    return resualt "
   ]
  },
  {
   "cell_type": "code",
   "execution_count": 8,
   "id": "f6fed0b5-eb5c-4d5f-9a24-f8fbfd053dc3",
   "metadata": {},
   "outputs": [
    {
     "name": "stdout",
     "output_type": "stream",
     "text": [
      "['parsa']\n"
     ]
    }
   ],
   "source": [
    "print(\n",
    "    create_difrents(\n",
    "    data1 , data2 \n",
    "    )\n",
    ")"
   ]
  },
  {
   "cell_type": "code",
   "execution_count": null,
   "id": "d3637343-c703-4e0a-a444-5f29cae11bb1",
   "metadata": {},
   "outputs": [],
   "source": []
  }
 ],
 "metadata": {
  "kernelspec": {
   "display_name": "Python 3 (ipykernel)",
   "language": "python",
   "name": "python3"
  },
  "language_info": {
   "codemirror_mode": {
    "name": "ipython",
    "version": 3
   },
   "file_extension": ".py",
   "mimetype": "text/x-python",
   "name": "python",
   "nbconvert_exporter": "python",
   "pygments_lexer": "ipython3",
   "version": "3.10.12"
  }
 },
 "nbformat": 4,
 "nbformat_minor": 5
}
