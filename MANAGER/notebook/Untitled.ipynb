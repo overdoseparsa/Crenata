{
 "cells": [
  {
   "cell_type": "markdown",
   "id": "cd83aada-c1f3-4205-9aed-2771722c080e",
   "metadata": {},
   "source": [
    "> csrf token 'sess'"
   ]
  },
  {
   "cell_type": "code",
   "execution_count": 67,
   "id": "b001a50b-b243-4061-957c-86e3d060e34f",
   "metadata": {},
   "outputs": [
    {
     "ename": "ModuleNotFoundError",
     "evalue": "No module named 'beautifulsoup4'",
     "output_type": "error",
     "traceback": [
      "\u001b[0;31m---------------------------------------------------------------------------\u001b[0m",
      "\u001b[0;31mModuleNotFoundError\u001b[0m                       Traceback (most recent call last)",
      "Cell \u001b[0;32mIn[67], line 3\u001b[0m\n\u001b[1;32m      1\u001b[0m \u001b[38;5;28;01mimport\u001b[39;00m \u001b[38;5;21;01mrequests\u001b[39;00m \n\u001b[1;32m      2\u001b[0m \u001b[38;5;28;01mimport\u001b[39;00m \u001b[38;5;21;01mjson\u001b[39;00m\n\u001b[0;32m----> 3\u001b[0m \u001b[38;5;28;01mimport\u001b[39;00m \u001b[38;5;21;01mbeautifulsoup4\u001b[39;00m \u001b[38;5;28;01mas\u001b[39;00m \u001b[38;5;21;01mbs4\u001b[39;00m\n",
      "\u001b[0;31mModuleNotFoundError\u001b[0m: No module named 'beautifulsoup4'"
     ]
    }
   ],
   "source": [
    "import requests \n",
    "import json\n",
    "import beautifulsoup4 as bs4"
   ]
  },
  {
   "cell_type": "code",
   "execution_count": 68,
   "id": "d0138860-e7c7-4f4d-877e-aa179496ca5d",
   "metadata": {},
   "outputs": [],
   "source": [
    "url = \"https://sess.sku.ac.ir/Sess/17287308814\"\n",
    "response = requests.get(url)"
   ]
  },
  {
   "cell_type": "code",
   "execution_count": 72,
   "id": "b413441c-7d8e-48b1-ba81-9023898ec606",
   "metadata": {},
   "outputs": [
    {
     "ename": "ModuleNotFoundError",
     "evalue": "No module named 'beautifulsoup4'",
     "output_type": "error",
     "traceback": [
      "\u001b[0;31m---------------------------------------------------------------------------\u001b[0m",
      "\u001b[0;31mModuleNotFoundError\u001b[0m                       Traceback (most recent call last)",
      "Cell \u001b[0;32mIn[72], line 1\u001b[0m\n\u001b[0;32m----> 1\u001b[0m \u001b[38;5;28;01mimport\u001b[39;00m \u001b[38;5;21;01mbeautifulsoup4\u001b[39;00m \u001b[38;5;28;01mas\u001b[39;00m \u001b[38;5;21;01mbs4\u001b[39;00m\n\u001b[1;32m      2\u001b[0m \u001b[38;5;28;01mclass\u001b[39;00m \u001b[38;5;21;01mRequests\u001b[39;00m(): \u001b[38;5;66;03m# this is type requests\u001b[39;00m\n\u001b[1;32m      3\u001b[0m     response \u001b[38;5;241m=\u001b[39m {}\n",
      "\u001b[0;31mModuleNotFoundError\u001b[0m: No module named 'beautifulsoup4'"
     ]
    }
   ],
   "source": [
    "import beautifulsoup4 as bs4\n",
    "class Requests(): # this is type requests\n",
    "    response = {}\n",
    "    def __init__(self , url):\n",
    "        self.url = url \n",
    "        self.response = {} \n",
    "        self.count_requests = 0 \n",
    "\n",
    "    def get_response(self , args):\n",
    "        self.args = args\n",
    "        self.response[f'{self.count_requests}'] = {'source':bs4(self.args.text).prettify() , }\n",
    "        self.count_requests += 1 \n",
    "        print(self.args.status_code)\n",
    "\n",
    "    def post(self , pyload):\n",
    "        self.get_response(requests.post(self.url ,  data = pyload))\n",
    "        \n",
    "        \n",
    "    def get(self):\n",
    "        self.get_response(requests.post(self.url))\n",
    "\n",
    "    def return_response(self):\n",
    "        return self.response"
   ]
  },
  {
   "cell_type": "code",
   "execution_count": 70,
   "id": "8c4a5658-c016-48be-8d0b-9f2c1612dc14",
   "metadata": {},
   "outputs": [],
   "source": [
    "requests_to_sess_Get = Requests(url)"
   ]
  },
  {
   "cell_type": "code",
   "execution_count": 71,
   "id": "49ccdeaa-b253-45d4-a693-1e27c96cfcfd",
   "metadata": {},
   "outputs": [
    {
     "ename": "NameError",
     "evalue": "name 'bs4' is not defined",
     "output_type": "error",
     "traceback": [
      "\u001b[0;31m---------------------------------------------------------------------------\u001b[0m",
      "\u001b[0;31mNameError\u001b[0m                                 Traceback (most recent call last)",
      "Cell \u001b[0;32mIn[71], line 1\u001b[0m\n\u001b[0;32m----> 1\u001b[0m \u001b[43mrequests_to_sess_Get\u001b[49m\u001b[38;5;241;43m.\u001b[39;49m\u001b[43mget\u001b[49m\u001b[43m(\u001b[49m\u001b[43m)\u001b[49m\n\u001b[1;32m      3\u001b[0m \u001b[38;5;28mprint\u001b[39m(requests_to_sess_Get\u001b[38;5;241m.\u001b[39mreturn_response()[\u001b[38;5;124m'\u001b[39m\u001b[38;5;124m0\u001b[39m\u001b[38;5;124m'\u001b[39m][\u001b[38;5;124m'\u001b[39m\u001b[38;5;124msource\u001b[39m\u001b[38;5;124m'\u001b[39m])\n",
      "Cell \u001b[0;32mIn[69], line 19\u001b[0m, in \u001b[0;36mRequests.get\u001b[0;34m(self)\u001b[0m\n\u001b[1;32m     18\u001b[0m \u001b[38;5;28;01mdef\u001b[39;00m \u001b[38;5;21mget\u001b[39m(\u001b[38;5;28mself\u001b[39m):\n\u001b[0;32m---> 19\u001b[0m     \u001b[38;5;28;43mself\u001b[39;49m\u001b[38;5;241;43m.\u001b[39;49m\u001b[43mget_response\u001b[49m\u001b[43m(\u001b[49m\u001b[43mrequests\u001b[49m\u001b[38;5;241;43m.\u001b[39;49m\u001b[43mpost\u001b[49m\u001b[43m(\u001b[49m\u001b[38;5;28;43mself\u001b[39;49m\u001b[38;5;241;43m.\u001b[39;49m\u001b[43murl\u001b[49m\u001b[43m)\u001b[49m\u001b[43m)\u001b[49m\n",
      "Cell \u001b[0;32mIn[69], line 10\u001b[0m, in \u001b[0;36mRequests.get_response\u001b[0;34m(self, args)\u001b[0m\n\u001b[1;32m      8\u001b[0m \u001b[38;5;28;01mdef\u001b[39;00m \u001b[38;5;21mget_response\u001b[39m(\u001b[38;5;28mself\u001b[39m , args):\n\u001b[1;32m      9\u001b[0m     \u001b[38;5;28mself\u001b[39m\u001b[38;5;241m.\u001b[39margs \u001b[38;5;241m=\u001b[39m args\n\u001b[0;32m---> 10\u001b[0m     \u001b[38;5;28mself\u001b[39m\u001b[38;5;241m.\u001b[39mresponse[\u001b[38;5;124mf\u001b[39m\u001b[38;5;124m'\u001b[39m\u001b[38;5;132;01m{\u001b[39;00m\u001b[38;5;28mself\u001b[39m\u001b[38;5;241m.\u001b[39mcount_requests\u001b[38;5;132;01m}\u001b[39;00m\u001b[38;5;124m'\u001b[39m] \u001b[38;5;241m=\u001b[39m {\u001b[38;5;124m'\u001b[39m\u001b[38;5;124msource\u001b[39m\u001b[38;5;124m'\u001b[39m:\u001b[43mbs4\u001b[49m(\u001b[38;5;28mself\u001b[39m\u001b[38;5;241m.\u001b[39margs\u001b[38;5;241m.\u001b[39mtext)\u001b[38;5;241m.\u001b[39mprettify() , }\n\u001b[1;32m     11\u001b[0m     \u001b[38;5;28mself\u001b[39m\u001b[38;5;241m.\u001b[39mcount_requests \u001b[38;5;241m+\u001b[39m\u001b[38;5;241m=\u001b[39m \u001b[38;5;241m1\u001b[39m \n\u001b[1;32m     12\u001b[0m     \u001b[38;5;28mprint\u001b[39m(\u001b[38;5;28mself\u001b[39m\u001b[38;5;241m.\u001b[39margs\u001b[38;5;241m.\u001b[39mstatus_code)\n",
      "\u001b[0;31mNameError\u001b[0m: name 'bs4' is not defined"
     ]
    }
   ],
   "source": [
    "requests_to_sess_Get.get()\n",
    "\n",
    "print(requests_to_sess_Get.return_response()['0']['source'])"
   ]
  },
  {
   "cell_type": "code",
   "execution_count": null,
   "id": "440b539e-a0d1-4e76-8c27-72599061777e",
   "metadata": {},
   "outputs": [],
   "source": []
  }
 ],
 "metadata": {
  "kernelspec": {
   "display_name": "Python 3 (ipykernel)",
   "language": "python",
   "name": "python3"
  },
  "language_info": {
   "codemirror_mode": {
    "name": "ipython",
    "version": 3
   },
   "file_extension": ".py",
   "mimetype": "text/x-python",
   "name": "python",
   "nbconvert_exporter": "python",
   "pygments_lexer": "ipython3",
   "version": "3.10.12"
  }
 },
 "nbformat": 4,
 "nbformat_minor": 5
}
