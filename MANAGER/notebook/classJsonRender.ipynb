{
 "cells": [
  {
   "cell_type": "code",
   "execution_count": 2,
   "id": "07a95b1f-b741-46cd-8779-d8aee438da97",
   "metadata": {},
   "outputs": [],
   "source": [
    "###models \n",
    "# class User(models.Model):\n",
    "#     pass\n",
    "    \n",
    "\n",
    "# class Post(models.Model):\n",
    "#     pass\n",
    "\n",
    "from collections import UserDict "
   ]
  },
  {
   "cell_type": "code",
   "execution_count": 7,
   "id": "a6ea5aad-32d2-4f92-9daf-46f81dd83cda",
   "metadata": {},
   "outputs": [],
   "source": [
    "# this is the render projects \n",
    "class ExJson(UserDict):\n",
    "    def __init__(self , QuerySet) -> None :\n",
    "        self.q = QuerySet\n",
    "        self.json = {}\n",
    "        \n",
    "        \n",
    "    "
   ]
  },
  {
   "cell_type": "code",
   "execution_count": 3,
   "id": "628e66f0-12e8-42e1-98a1-64adb9833639",
   "metadata": {},
   "outputs": [],
   "source": [
    "from collections import UserDict "
   ]
  },
  {
   "cell_type": "code",
   "execution_count": 6,
   "id": "4cc76ab1-5f69-456f-bed4-0124aaa715af",
   "metadata": {},
   "outputs": [
    {
     "data": {
      "text/plain": [
       "'{}'"
      ]
     },
     "execution_count": 6,
     "metadata": {},
     "output_type": "execute_result"
    }
   ],
   "source": [
    "repr(UserDict())"
   ]
  },
  {
   "cell_type": "code",
   "execution_count": null,
   "id": "1e06885f-64c7-4655-a9a3-2918980b589d",
   "metadata": {},
   "outputs": [],
   "source": []
  }
 ],
 "metadata": {
  "kernelspec": {
   "display_name": "Python 3 (ipykernel)",
   "language": "python",
   "name": "python3"
  },
  "language_info": {
   "codemirror_mode": {
    "name": "ipython",
    "version": 3
   },
   "file_extension": ".py",
   "mimetype": "text/x-python",
   "name": "python",
   "nbconvert_exporter": "python",
   "pygments_lexer": "ipython3",
   "version": "3.10.12"
  }
 },
 "nbformat": 4,
 "nbformat_minor": 5
}
